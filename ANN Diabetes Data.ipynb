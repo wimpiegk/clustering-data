{
 "cells": [
  {
   "cell_type": "code",
   "execution_count": 1,
   "id": "d367bc1c",
   "metadata": {},
   "outputs": [],
   "source": [
    "import pandas as pd\n",
    "import numpy as np"
   ]
  },
  {
   "cell_type": "code",
   "execution_count": 2,
   "id": "476be6b5",
   "metadata": {},
   "outputs": [],
   "source": [
    "diabetes = pd.read_csv(r'C:\\wimpie\\DINAS\\archive\\diabetes.csv')"
   ]
  },
  {
   "cell_type": "code",
   "execution_count": 3,
   "id": "ac0f0ee6",
   "metadata": {},
   "outputs": [
    {
     "data": {
      "text/html": [
       "<div>\n",
       "<style scoped>\n",
       "    .dataframe tbody tr th:only-of-type {\n",
       "        vertical-align: middle;\n",
       "    }\n",
       "\n",
       "    .dataframe tbody tr th {\n",
       "        vertical-align: top;\n",
       "    }\n",
       "\n",
       "    .dataframe thead th {\n",
       "        text-align: right;\n",
       "    }\n",
       "</style>\n",
       "<table border=\"1\" class=\"dataframe\">\n",
       "  <thead>\n",
       "    <tr style=\"text-align: right;\">\n",
       "      <th></th>\n",
       "      <th>Pregnancies</th>\n",
       "      <th>Glucose</th>\n",
       "      <th>BloodPressure</th>\n",
       "      <th>SkinThickness</th>\n",
       "      <th>Insulin</th>\n",
       "      <th>BMI</th>\n",
       "      <th>DiabetesPedigreeFunction</th>\n",
       "      <th>Age</th>\n",
       "      <th>Outcome</th>\n",
       "    </tr>\n",
       "  </thead>\n",
       "  <tbody>\n",
       "    <tr>\n",
       "      <th>0</th>\n",
       "      <td>6</td>\n",
       "      <td>148</td>\n",
       "      <td>72</td>\n",
       "      <td>35</td>\n",
       "      <td>0</td>\n",
       "      <td>33.6</td>\n",
       "      <td>0.627</td>\n",
       "      <td>50</td>\n",
       "      <td>1</td>\n",
       "    </tr>\n",
       "    <tr>\n",
       "      <th>1</th>\n",
       "      <td>1</td>\n",
       "      <td>85</td>\n",
       "      <td>66</td>\n",
       "      <td>29</td>\n",
       "      <td>0</td>\n",
       "      <td>26.6</td>\n",
       "      <td>0.351</td>\n",
       "      <td>31</td>\n",
       "      <td>0</td>\n",
       "    </tr>\n",
       "    <tr>\n",
       "      <th>2</th>\n",
       "      <td>8</td>\n",
       "      <td>183</td>\n",
       "      <td>64</td>\n",
       "      <td>0</td>\n",
       "      <td>0</td>\n",
       "      <td>23.3</td>\n",
       "      <td>0.672</td>\n",
       "      <td>32</td>\n",
       "      <td>1</td>\n",
       "    </tr>\n",
       "    <tr>\n",
       "      <th>3</th>\n",
       "      <td>1</td>\n",
       "      <td>89</td>\n",
       "      <td>66</td>\n",
       "      <td>23</td>\n",
       "      <td>94</td>\n",
       "      <td>28.1</td>\n",
       "      <td>0.167</td>\n",
       "      <td>21</td>\n",
       "      <td>0</td>\n",
       "    </tr>\n",
       "    <tr>\n",
       "      <th>4</th>\n",
       "      <td>0</td>\n",
       "      <td>137</td>\n",
       "      <td>40</td>\n",
       "      <td>35</td>\n",
       "      <td>168</td>\n",
       "      <td>43.1</td>\n",
       "      <td>2.288</td>\n",
       "      <td>33</td>\n",
       "      <td>1</td>\n",
       "    </tr>\n",
       "    <tr>\n",
       "      <th>...</th>\n",
       "      <td>...</td>\n",
       "      <td>...</td>\n",
       "      <td>...</td>\n",
       "      <td>...</td>\n",
       "      <td>...</td>\n",
       "      <td>...</td>\n",
       "      <td>...</td>\n",
       "      <td>...</td>\n",
       "      <td>...</td>\n",
       "    </tr>\n",
       "    <tr>\n",
       "      <th>763</th>\n",
       "      <td>10</td>\n",
       "      <td>101</td>\n",
       "      <td>76</td>\n",
       "      <td>48</td>\n",
       "      <td>180</td>\n",
       "      <td>32.9</td>\n",
       "      <td>0.171</td>\n",
       "      <td>63</td>\n",
       "      <td>0</td>\n",
       "    </tr>\n",
       "    <tr>\n",
       "      <th>764</th>\n",
       "      <td>2</td>\n",
       "      <td>122</td>\n",
       "      <td>70</td>\n",
       "      <td>27</td>\n",
       "      <td>0</td>\n",
       "      <td>36.8</td>\n",
       "      <td>0.340</td>\n",
       "      <td>27</td>\n",
       "      <td>0</td>\n",
       "    </tr>\n",
       "    <tr>\n",
       "      <th>765</th>\n",
       "      <td>5</td>\n",
       "      <td>121</td>\n",
       "      <td>72</td>\n",
       "      <td>23</td>\n",
       "      <td>112</td>\n",
       "      <td>26.2</td>\n",
       "      <td>0.245</td>\n",
       "      <td>30</td>\n",
       "      <td>0</td>\n",
       "    </tr>\n",
       "    <tr>\n",
       "      <th>766</th>\n",
       "      <td>1</td>\n",
       "      <td>126</td>\n",
       "      <td>60</td>\n",
       "      <td>0</td>\n",
       "      <td>0</td>\n",
       "      <td>30.1</td>\n",
       "      <td>0.349</td>\n",
       "      <td>47</td>\n",
       "      <td>1</td>\n",
       "    </tr>\n",
       "    <tr>\n",
       "      <th>767</th>\n",
       "      <td>1</td>\n",
       "      <td>93</td>\n",
       "      <td>70</td>\n",
       "      <td>31</td>\n",
       "      <td>0</td>\n",
       "      <td>30.4</td>\n",
       "      <td>0.315</td>\n",
       "      <td>23</td>\n",
       "      <td>0</td>\n",
       "    </tr>\n",
       "  </tbody>\n",
       "</table>\n",
       "<p>768 rows × 9 columns</p>\n",
       "</div>"
      ],
      "text/plain": [
       "     Pregnancies  Glucose  BloodPressure  SkinThickness  Insulin   BMI  \\\n",
       "0              6      148             72             35        0  33.6   \n",
       "1              1       85             66             29        0  26.6   \n",
       "2              8      183             64              0        0  23.3   \n",
       "3              1       89             66             23       94  28.1   \n",
       "4              0      137             40             35      168  43.1   \n",
       "..           ...      ...            ...            ...      ...   ...   \n",
       "763           10      101             76             48      180  32.9   \n",
       "764            2      122             70             27        0  36.8   \n",
       "765            5      121             72             23      112  26.2   \n",
       "766            1      126             60              0        0  30.1   \n",
       "767            1       93             70             31        0  30.4   \n",
       "\n",
       "     DiabetesPedigreeFunction  Age  Outcome  \n",
       "0                       0.627   50        1  \n",
       "1                       0.351   31        0  \n",
       "2                       0.672   32        1  \n",
       "3                       0.167   21        0  \n",
       "4                       2.288   33        1  \n",
       "..                        ...  ...      ...  \n",
       "763                     0.171   63        0  \n",
       "764                     0.340   27        0  \n",
       "765                     0.245   30        0  \n",
       "766                     0.349   47        1  \n",
       "767                     0.315   23        0  \n",
       "\n",
       "[768 rows x 9 columns]"
      ]
     },
     "execution_count": 3,
     "metadata": {},
     "output_type": "execute_result"
    }
   ],
   "source": [
    "diabetes"
   ]
  },
  {
   "cell_type": "code",
   "execution_count": 11,
   "id": "88384445",
   "metadata": {},
   "outputs": [],
   "source": [
    "X = diabetes.drop(['Outcome'], axis=1)\n",
    "y = diabetes['Outcome']"
   ]
  },
  {
   "cell_type": "code",
   "execution_count": 8,
   "id": "efd095d5",
   "metadata": {},
   "outputs": [
    {
     "ename": "NameError",
     "evalue": "name 'train_test_split' is not defined",
     "output_type": "error",
     "traceback": [
      "\u001b[1;31m---------------------------------------------------------------------------\u001b[0m",
      "\u001b[1;31mNameError\u001b[0m                                 Traceback (most recent call last)",
      "Input \u001b[1;32mIn [8]\u001b[0m, in \u001b[0;36m<module>\u001b[1;34m\u001b[0m\n\u001b[1;32m----> 1\u001b[0m X_train, X_test, Y_train, Y_test \u001b[38;5;241m=\u001b[39m \u001b[43mtrain_test_split\u001b[49m(X, y, test_size\u001b[38;5;241m=\u001b[39m\u001b[38;5;241m.10\u001b[39m)\n\u001b[0;32m      2\u001b[0m X_train, X_val, Y_train, Y_val \u001b[38;5;241m=\u001b[39m train_test_split(X_train, Y_train, test_size\u001b[38;5;241m=\u001b[39m\u001b[38;5;241m.15\u001b[39m)\n\u001b[0;32m      3\u001b[0m \u001b[38;5;28mprint\u001b[39m(\u001b[38;5;124m'\u001b[39m\u001b[38;5;124mX_train\u001b[39m\u001b[38;5;124m'\u001b[39m, X_train\u001b[38;5;241m.\u001b[39mshape)\n",
      "\u001b[1;31mNameError\u001b[0m: name 'train_test_split' is not defined"
     ]
    }
   ],
   "source": []
  },
  {
   "cell_type": "code",
   "execution_count": 12,
   "id": "fdbfdecf",
   "metadata": {},
   "outputs": [],
   "source": [
    "from sklearn import datasets\n",
    "from sklearn.model_selection import train_test_split"
   ]
  },
  {
   "cell_type": "code",
   "execution_count": 13,
   "id": "e2d4019f",
   "metadata": {},
   "outputs": [
    {
     "name": "stdout",
     "output_type": "stream",
     "text": [
      "X_train (587, 8)\n",
      "X_val (104, 8)\n",
      "X_test (77, 8)\n"
     ]
    }
   ],
   "source": [
    "X_train, X_test, Y_train, Y_test = train_test_split(X, y, test_size=.10)\n",
    "X_train, X_val, Y_train, Y_val = train_test_split(X_train, Y_train, test_size=.15)\n",
    "print('X_train', X_train.shape)\n",
    "print('X_val', X_val.shape)\n",
    "print('X_test', X_test.shape)"
   ]
  },
  {
   "cell_type": "code",
   "execution_count": 14,
   "id": "639f2240",
   "metadata": {},
   "outputs": [],
   "source": [
    "from sklearn.neural_network import MLPClassifier\n",
    "\n",
    "mlp = MLPClassifier(hidden_layer_sizes=(64, ), activation='relu',max_iter=1000, epsilon=1e-08)"
   ]
  },
  {
   "cell_type": "code",
   "execution_count": 15,
   "id": "12ef0328",
   "metadata": {},
   "outputs": [
    {
     "name": "stdout",
     "output_type": "stream",
     "text": [
      "Akurasi Validasi Training ANN: 0.6730769230769231\n"
     ]
    }
   ],
   "source": [
    "from sklearn.metrics import accuracy_score\n",
    "\n",
    "mlp.fit(X_train, Y_train)\n",
    "prediksi_val = mlp.predict(X_val)\n",
    "acc_val = accuracy_score(Y_val, prediksi_val)\n",
    "print('Akurasi Validasi Training ANN:', acc_val)"
   ]
  },
  {
   "cell_type": "code",
   "execution_count": 16,
   "id": "9df232ff",
   "metadata": {},
   "outputs": [
    {
     "name": "stdout",
     "output_type": "stream",
     "text": [
      "Akurasi Testing ANN: 0.6883116883116883\n"
     ]
    }
   ],
   "source": [
    "prediksi_test = mlp.predict(X_test)\n",
    "acc_test = accuracy_score(Y_test, prediksi_test)\n",
    "print('Akurasi Testing ANN:', acc_test)"
   ]
  },
  {
   "cell_type": "code",
   "execution_count": 17,
   "id": "dde918cf",
   "metadata": {},
   "outputs": [
    {
     "name": "stderr",
     "output_type": "stream",
     "text": [
      "C:\\Users\\AMAR BANK\\AppData\\Local\\Programs\\Python\\Python310\\lib\\site-packages\\sklearn\\utils\\deprecation.py:87: FutureWarning: Function plot_confusion_matrix is deprecated; Function `plot_confusion_matrix` is deprecated in 1.0 and will be removed in 1.2. Use one of the class methods: ConfusionMatrixDisplay.from_predictions or ConfusionMatrixDisplay.from_estimator.\n",
      "  warnings.warn(msg, category=FutureWarning)\n"
     ]
    },
    {
     "name": "stdout",
     "output_type": "stream",
     "text": [
      "Akurasi Testing ANN: 0.6883116883116883\n"
     ]
    },
    {
     "data": {
      "image/png": "[encoded data removed]",
      "text/plain": [
       "<Figure size 432x288 with 2 Axes>"
      ]
     },
     "metadata": {
      "needs_background": "light"
     },
     "output_type": "display_data"
    }
   ],
   "source": [
    "from sklearn.metrics import accuracy_score, plot_confusion_matrix\n",
    "\n",
    "prediksi = mlp.predict(X_test)\n",
    "plot_confusion_matrix(mlp, X_test, Y_test)\n",
    "accuracy = accuracy_score(Y_test, prediksi)\n",
    "print('Akurasi Testing ANN:', accuracy)"
   ]
  },
  {
   "cell_type": "code",
   "execution_count": 18,
   "id": "281acdf0",
   "metadata": {},
   "outputs": [],
   "source": [
    "from tensorflow.keras.utils import to_categorical\n",
    "\n",
    "\n",
    "Y_train = to_categorical(Y_train,3)\n",
    "Y_val = to_categorical(Y_val,3)\n",
    "Y_test = to_categorical(Y_test,3)"
   ]
  },
  {
   "cell_type": "code",
   "execution_count": 19,
   "id": "d06ee85d",
   "metadata": {},
   "outputs": [],
   "source": [
    "from keras.models import Sequential\n",
    "from keras.layers import Flatten, Dense\n",
    "\n",
    "model = Sequential()\n",
    "model.add(Flatten())\n",
    "model.add(Dense(64,activation='relu'))\n",
    "model.add(Dense(3,activation='softmax'))\n",
    "\n",
    "model.compile(optimizer='adam',loss='categorical_crossentropy', metrics=['acc'])"
   ]
  },
  {
   "cell_type": "code",
   "execution_count": 29,
   "id": "b64ec2d3",
   "metadata": {},
   "outputs": [
    {
     "name": "stdout",
     "output_type": "stream",
     "text": [
      "Epoch 1/100\n",
      "59/59 [==============================] - 0s 5ms/step - loss: 0.4320 - acc: 0.8058 - val_loss: 0.7574 - val_acc: 0.7115\n",
      "Epoch 2/100\n",
      "59/59 [==============================] - 0s 5ms/step - loss: 0.4774 - acc: 0.7615 - val_loss: 0.7798 - val_acc: 0.7500\n",
      "Epoch 3/100\n",
      "59/59 [==============================] - 0s 5ms/step - loss: 0.4875 - acc: 0.7717 - val_loss: 1.1331 - val_acc: 0.5673\n",
      "Epoch 4/100\n",
      "59/59 [==============================] - 0s 3ms/step - loss: 0.5006 - acc: 0.7802 - val_loss: 0.7275 - val_acc: 0.7692\n",
      "Epoch 5/100\n",
      "59/59 [==============================] - 0s 2ms/step - loss: 0.4291 - acc: 0.7922 - val_loss: 0.8595 - val_acc: 0.6827\n",
      "Epoch 6/100\n",
      "59/59 [==============================] - 0s 2ms/step - loss: 0.4586 - acc: 0.7632 - val_loss: 0.7466 - val_acc: 0.7788\n",
      "Epoch 7/100\n",
      "59/59 [==============================] - 0s 2ms/step - loss: 0.4007 - acc: 0.8109 - val_loss: 0.7281 - val_acc: 0.7500\n",
      "Epoch 8/100\n",
      "59/59 [==============================] - 0s 3ms/step - loss: 0.4209 - acc: 0.8092 - val_loss: 0.9079 - val_acc: 0.6827\n",
      "Epoch 9/100\n",
      "59/59 [==============================] - 0s 3ms/step - loss: 0.4272 - acc: 0.8092 - val_loss: 0.9557 - val_acc: 0.6250\n",
      "Epoch 10/100\n",
      "59/59 [==============================] - 0s 3ms/step - loss: 0.4400 - acc: 0.7836 - val_loss: 0.7024 - val_acc: 0.7500\n",
      "Epoch 11/100\n",
      "59/59 [==============================] - 0s 3ms/step - loss: 0.3872 - acc: 0.8330 - val_loss: 0.6860 - val_acc: 0.7788\n",
      "Epoch 12/100\n",
      "59/59 [==============================] - 0s 4ms/step - loss: 0.4285 - acc: 0.7939 - val_loss: 0.9758 - val_acc: 0.6442\n",
      "Epoch 13/100\n",
      "59/59 [==============================] - 0s 4ms/step - loss: 0.4834 - acc: 0.7700 - val_loss: 0.7098 - val_acc: 0.7885\n",
      "Epoch 14/100\n",
      "59/59 [==============================] - 0s 3ms/step - loss: 0.4597 - acc: 0.7939 - val_loss: 0.7332 - val_acc: 0.7500\n",
      "Epoch 15/100\n",
      "59/59 [==============================] - 0s 4ms/step - loss: 0.5051 - acc: 0.7632 - val_loss: 0.7798 - val_acc: 0.7404\n",
      "Epoch 16/100\n",
      "59/59 [==============================] - 0s 4ms/step - loss: 0.4203 - acc: 0.8058 - val_loss: 0.7435 - val_acc: 0.7500\n",
      "Epoch 17/100\n",
      "59/59 [==============================] - 0s 4ms/step - loss: 0.4124 - acc: 0.8109 - val_loss: 0.7720 - val_acc: 0.7692\n",
      "Epoch 18/100\n",
      "59/59 [==============================] - 0s 3ms/step - loss: 0.4544 - acc: 0.7939 - val_loss: 0.9427 - val_acc: 0.7019\n",
      "Epoch 19/100\n",
      "59/59 [==============================] - 0s 2ms/step - loss: 0.4842 - acc: 0.7700 - val_loss: 0.8066 - val_acc: 0.6923\n",
      "Epoch 20/100\n",
      "59/59 [==============================] - 0s 2ms/step - loss: 0.3940 - acc: 0.8109 - val_loss: 0.8546 - val_acc: 0.6923\n",
      "Epoch 21/100\n",
      "59/59 [==============================] - 0s 2ms/step - loss: 0.4192 - acc: 0.8058 - val_loss: 0.8921 - val_acc: 0.7212\n",
      "Epoch 22/100\n",
      "59/59 [==============================] - 0s 2ms/step - loss: 0.4960 - acc: 0.7768 - val_loss: 0.8064 - val_acc: 0.6538\n",
      "Epoch 23/100\n",
      "59/59 [==============================] - 0s 2ms/step - loss: 0.3960 - acc: 0.8109 - val_loss: 0.7036 - val_acc: 0.7404\n",
      "Epoch 24/100\n",
      "59/59 [==============================] - 0s 2ms/step - loss: 0.3816 - acc: 0.8245 - val_loss: 0.7398 - val_acc: 0.7692\n",
      "Epoch 25/100\n",
      "59/59 [==============================] - 0s 2ms/step - loss: 0.4147 - acc: 0.8143 - val_loss: 0.8021 - val_acc: 0.7212\n",
      "Epoch 26/100\n",
      "59/59 [==============================] - 0s 2ms/step - loss: 0.4063 - acc: 0.8075 - val_loss: 0.8371 - val_acc: 0.6731\n",
      "Epoch 27/100\n",
      "59/59 [==============================] - 0s 2ms/step - loss: 0.4210 - acc: 0.8211 - val_loss: 0.7310 - val_acc: 0.7885\n",
      "Epoch 28/100\n",
      "59/59 [==============================] - 0s 2ms/step - loss: 0.4237 - acc: 0.8041 - val_loss: 0.7097 - val_acc: 0.7788\n",
      "Epoch 29/100\n",
      "59/59 [==============================] - 0s 2ms/step - loss: 0.4222 - acc: 0.8024 - val_loss: 0.7651 - val_acc: 0.7115\n",
      "Epoch 30/100\n",
      "59/59 [==============================] - 0s 2ms/step - loss: 0.4438 - acc: 0.7922 - val_loss: 0.7979 - val_acc: 0.7019\n",
      "Epoch 31/100\n",
      "59/59 [==============================] - 0s 2ms/step - loss: 0.4454 - acc: 0.8007 - val_loss: 0.8318 - val_acc: 0.7308\n",
      "Epoch 32/100\n",
      "59/59 [==============================] - 0s 2ms/step - loss: 0.4023 - acc: 0.8092 - val_loss: 0.7595 - val_acc: 0.7212\n",
      "Epoch 33/100\n",
      "59/59 [==============================] - 0s 3ms/step - loss: 0.4385 - acc: 0.8075 - val_loss: 0.7718 - val_acc: 0.7019\n",
      "Epoch 34/100\n",
      "59/59 [==============================] - 0s 2ms/step - loss: 0.3997 - acc: 0.8058 - val_loss: 0.7572 - val_acc: 0.7404\n",
      "Epoch 35/100\n",
      "59/59 [==============================] - 0s 3ms/step - loss: 0.4148 - acc: 0.7990 - val_loss: 0.8929 - val_acc: 0.6731\n",
      "Epoch 36/100\n",
      "59/59 [==============================] - 0s 3ms/step - loss: 0.3980 - acc: 0.8092 - val_loss: 0.8068 - val_acc: 0.7019\n",
      "Epoch 37/100\n",
      "59/59 [==============================] - 0s 3ms/step - loss: 0.4237 - acc: 0.8007 - val_loss: 0.8100 - val_acc: 0.7692\n",
      "Epoch 38/100\n",
      "59/59 [==============================] - 0s 3ms/step - loss: 0.3833 - acc: 0.8109 - val_loss: 0.7816 - val_acc: 0.7212\n",
      "Epoch 39/100\n",
      "59/59 [==============================] - 0s 4ms/step - loss: 0.4520 - acc: 0.7853 - val_loss: 0.8731 - val_acc: 0.6731\n",
      "Epoch 40/100\n",
      "59/59 [==============================] - 0s 3ms/step - loss: 0.4043 - acc: 0.8143 - val_loss: 0.8027 - val_acc: 0.7308\n",
      "Epoch 41/100\n",
      "59/59 [==============================] - 0s 4ms/step - loss: 0.4859 - acc: 0.7871 - val_loss: 0.9473 - val_acc: 0.6154\n",
      "Epoch 42/100\n",
      "59/59 [==============================] - 0s 4ms/step - loss: 0.5948 - acc: 0.7189 - val_loss: 0.8123 - val_acc: 0.7404\n",
      "Epoch 43/100\n",
      "59/59 [==============================] - 0s 4ms/step - loss: 0.4024 - acc: 0.8075 - val_loss: 0.9009 - val_acc: 0.6923\n",
      "Epoch 44/100\n",
      "59/59 [==============================] - 0s 3ms/step - loss: 0.4048 - acc: 0.8126 - val_loss: 0.9756 - val_acc: 0.6250\n",
      "Epoch 45/100\n",
      "59/59 [==============================] - 0s 3ms/step - loss: 0.4489 - acc: 0.7939 - val_loss: 1.0616 - val_acc: 0.6923\n",
      "Epoch 46/100\n",
      "59/59 [==============================] - 0s 3ms/step - loss: 0.4681 - acc: 0.7973 - val_loss: 0.8206 - val_acc: 0.8173\n",
      "Epoch 47/100\n",
      "59/59 [==============================] - 0s 3ms/step - loss: 0.4881 - acc: 0.7973 - val_loss: 0.8802 - val_acc: 0.7212\n",
      "Epoch 48/100\n",
      "59/59 [==============================] - 0s 3ms/step - loss: 0.4451 - acc: 0.7819 - val_loss: 0.8629 - val_acc: 0.6923\n",
      "Epoch 49/100\n",
      "59/59 [==============================] - 0s 3ms/step - loss: 0.3970 - acc: 0.8058 - val_loss: 0.7786 - val_acc: 0.7404\n",
      "Epoch 50/100\n",
      "59/59 [==============================] - 0s 3ms/step - loss: 0.3977 - acc: 0.8177 - val_loss: 0.7363 - val_acc: 0.7404\n",
      "Epoch 51/100\n",
      "59/59 [==============================] - 0s 3ms/step - loss: 0.3817 - acc: 0.8024 - val_loss: 1.0861 - val_acc: 0.6250\n",
      "Epoch 52/100\n",
      "59/59 [==============================] - 0s 3ms/step - loss: 0.4524 - acc: 0.7871 - val_loss: 0.8283 - val_acc: 0.7404\n",
      "Epoch 53/100\n",
      "59/59 [==============================] - 0s 3ms/step - loss: 0.3977 - acc: 0.8194 - val_loss: 0.7895 - val_acc: 0.7404\n",
      "Epoch 54/100\n",
      "59/59 [==============================] - 0s 3ms/step - loss: 0.3917 - acc: 0.8296 - val_loss: 0.8031 - val_acc: 0.6635\n",
      "Epoch 55/100\n",
      "59/59 [==============================] - 0s 3ms/step - loss: 0.4627 - acc: 0.7853 - val_loss: 0.8314 - val_acc: 0.6923\n",
      "Epoch 56/100\n",
      "59/59 [==============================] - 0s 3ms/step - loss: 0.4471 - acc: 0.8007 - val_loss: 0.8844 - val_acc: 0.7212\n",
      "Epoch 57/100\n",
      "59/59 [==============================] - 0s 3ms/step - loss: 0.4535 - acc: 0.7905 - val_loss: 0.8050 - val_acc: 0.6923\n",
      "Epoch 58/100\n",
      "59/59 [==============================] - 0s 3ms/step - loss: 0.4789 - acc: 0.7836 - val_loss: 0.8135 - val_acc: 0.7115\n",
      "Epoch 59/100\n",
      "59/59 [==============================] - 0s 3ms/step - loss: 0.4556 - acc: 0.7802 - val_loss: 0.7794 - val_acc: 0.6827\n",
      "Epoch 60/100\n",
      "59/59 [==============================] - 0s 3ms/step - loss: 0.4013 - acc: 0.8194 - val_loss: 0.9386 - val_acc: 0.6731\n",
      "Epoch 61/100\n",
      "59/59 [==============================] - 0s 2ms/step - loss: 0.4119 - acc: 0.8007 - val_loss: 0.8396 - val_acc: 0.7212\n",
      "Epoch 62/100\n",
      "59/59 [==============================] - 0s 2ms/step - loss: 0.3972 - acc: 0.8126 - val_loss: 0.8263 - val_acc: 0.6923\n",
      "Epoch 63/100\n"
     ]
    },
    {
     "name": "stdout",
     "output_type": "stream",
     "text": [
      "59/59 [==============================] - 0s 2ms/step - loss: 0.3856 - acc: 0.8211 - val_loss: 0.7645 - val_acc: 0.6923\n",
      "Epoch 64/100\n",
      "59/59 [==============================] - 0s 2ms/step - loss: 0.3961 - acc: 0.8245 - val_loss: 0.7809 - val_acc: 0.7404\n",
      "Epoch 65/100\n",
      "59/59 [==============================] - 0s 2ms/step - loss: 0.4226 - acc: 0.8075 - val_loss: 0.8131 - val_acc: 0.7692\n",
      "Epoch 66/100\n",
      "59/59 [==============================] - 0s 2ms/step - loss: 0.4020 - acc: 0.8126 - val_loss: 0.7869 - val_acc: 0.7500\n",
      "Epoch 67/100\n",
      "59/59 [==============================] - 0s 3ms/step - loss: 0.3846 - acc: 0.8245 - val_loss: 0.7756 - val_acc: 0.7404\n",
      "Epoch 68/100\n",
      "59/59 [==============================] - 0s 2ms/step - loss: 0.4239 - acc: 0.7888 - val_loss: 1.0483 - val_acc: 0.6635\n",
      "Epoch 69/100\n",
      "59/59 [==============================] - 0s 2ms/step - loss: 0.3865 - acc: 0.8262 - val_loss: 0.8200 - val_acc: 0.7115\n",
      "Epoch 70/100\n",
      "59/59 [==============================] - 0s 2ms/step - loss: 0.4127 - acc: 0.7973 - val_loss: 0.9055 - val_acc: 0.6635\n",
      "Epoch 71/100\n",
      "59/59 [==============================] - 0s 5ms/step - loss: 0.4329 - acc: 0.8177 - val_loss: 0.8982 - val_acc: 0.7019\n",
      "Epoch 72/100\n",
      "59/59 [==============================] - 0s 4ms/step - loss: 0.4059 - acc: 0.8177 - val_loss: 0.8755 - val_acc: 0.6827\n",
      "Epoch 73/100\n",
      "59/59 [==============================] - 0s 3ms/step - loss: 0.3999 - acc: 0.8211 - val_loss: 0.8198 - val_acc: 0.6923\n",
      "Epoch 74/100\n",
      "59/59 [==============================] - 0s 3ms/step - loss: 0.3863 - acc: 0.8245 - val_loss: 0.7634 - val_acc: 0.6827\n",
      "Epoch 75/100\n",
      "59/59 [==============================] - 0s 2ms/step - loss: 0.4610 - acc: 0.7853 - val_loss: 0.8629 - val_acc: 0.7212\n",
      "Epoch 76/100\n",
      "59/59 [==============================] - 0s 2ms/step - loss: 0.4213 - acc: 0.8126 - val_loss: 0.7888 - val_acc: 0.7500\n",
      "Epoch 77/100\n",
      "59/59 [==============================] - 0s 3ms/step - loss: 0.4099 - acc: 0.7973 - val_loss: 0.9320 - val_acc: 0.7308\n",
      "Epoch 78/100\n",
      "59/59 [==============================] - 0s 3ms/step - loss: 0.4134 - acc: 0.7956 - val_loss: 0.8149 - val_acc: 0.7596\n",
      "Epoch 79/100\n",
      "59/59 [==============================] - 0s 4ms/step - loss: 0.3970 - acc: 0.8126 - val_loss: 0.9291 - val_acc: 0.6923\n",
      "Epoch 80/100\n",
      "59/59 [==============================] - 0s 4ms/step - loss: 0.4030 - acc: 0.8092 - val_loss: 0.8296 - val_acc: 0.7404\n",
      "Epoch 81/100\n",
      "59/59 [==============================] - 0s 4ms/step - loss: 0.3813 - acc: 0.8245 - val_loss: 0.8205 - val_acc: 0.7308\n",
      "Epoch 82/100\n",
      "59/59 [==============================] - 0s 4ms/step - loss: 0.3893 - acc: 0.8228 - val_loss: 0.8281 - val_acc: 0.7788\n",
      "Epoch 83/100\n",
      "59/59 [==============================] - 0s 4ms/step - loss: 0.3952 - acc: 0.8160 - val_loss: 0.8452 - val_acc: 0.7115\n",
      "Epoch 84/100\n",
      "59/59 [==============================] - 0s 4ms/step - loss: 0.3664 - acc: 0.8279 - val_loss: 0.7874 - val_acc: 0.7885\n",
      "Epoch 85/100\n",
      "59/59 [==============================] - 0s 4ms/step - loss: 0.4327 - acc: 0.8109 - val_loss: 0.9490 - val_acc: 0.7115\n",
      "Epoch 86/100\n",
      "59/59 [==============================] - 0s 4ms/step - loss: 0.4114 - acc: 0.7922 - val_loss: 0.7025 - val_acc: 0.6827\n",
      "Epoch 87/100\n",
      "59/59 [==============================] - 0s 3ms/step - loss: 0.4076 - acc: 0.8245 - val_loss: 0.7600 - val_acc: 0.7788\n",
      "Epoch 88/100\n",
      "59/59 [==============================] - 0s 5ms/step - loss: 0.4449 - acc: 0.7819 - val_loss: 0.8252 - val_acc: 0.7981\n",
      "Epoch 89/100\n",
      "59/59 [==============================] - 0s 4ms/step - loss: 0.4069 - acc: 0.8058 - val_loss: 0.8125 - val_acc: 0.7308\n",
      "Epoch 90/100\n",
      "59/59 [==============================] - 0s 3ms/step - loss: 0.3952 - acc: 0.8313 - val_loss: 0.8660 - val_acc: 0.7308\n",
      "Epoch 91/100\n",
      "59/59 [==============================] - 0s 3ms/step - loss: 0.4053 - acc: 0.8092 - val_loss: 0.8577 - val_acc: 0.6827\n",
      "Epoch 92/100\n",
      "59/59 [==============================] - 0s 3ms/step - loss: 0.3943 - acc: 0.8092 - val_loss: 0.8208 - val_acc: 0.7404\n",
      "Epoch 93/100\n",
      "59/59 [==============================] - 0s 3ms/step - loss: 0.4088 - acc: 0.8109 - val_loss: 0.6943 - val_acc: 0.7596\n",
      "Epoch 94/100\n",
      "59/59 [==============================] - 0s 3ms/step - loss: 0.4343 - acc: 0.8109 - val_loss: 0.7849 - val_acc: 0.7692\n",
      "Epoch 95/100\n",
      "59/59 [==============================] - 0s 3ms/step - loss: 0.5005 - acc: 0.7734 - val_loss: 0.8074 - val_acc: 0.6923\n",
      "Epoch 96/100\n",
      "59/59 [==============================] - 0s 3ms/step - loss: 0.4464 - acc: 0.7922 - val_loss: 0.7028 - val_acc: 0.7019\n",
      "Epoch 97/100\n",
      "59/59 [==============================] - 0s 3ms/step - loss: 0.3888 - acc: 0.8262 - val_loss: 0.7596 - val_acc: 0.7404\n",
      "Epoch 98/100\n",
      "59/59 [==============================] - 0s 3ms/step - loss: 0.4244 - acc: 0.8245 - val_loss: 0.9543 - val_acc: 0.7019\n",
      "Epoch 99/100\n",
      "59/59 [==============================] - 0s 3ms/step - loss: 0.3825 - acc: 0.8228 - val_loss: 1.1534 - val_acc: 0.6058\n",
      "Epoch 100/100\n",
      "59/59 [==============================] - 0s 3ms/step - loss: 0.4189 - acc: 0.8024 - val_loss: 0.7925 - val_acc: 0.7212\n"
     ]
    },
    {
     "data": {
      "text/plain": [
       "<keras.callbacks.History at 0x2188b0cf3a0>"
      ]
     },
     "execution_count": 29,
     "metadata": {},
     "output_type": "execute_result"
    }
   ],
   "source": [
    "model.fit(X_train,Y_train,epochs=100,batch_size=10,validation_data=(X_val,Y_val))"
   ]
  },
  {
   "cell_type": "code",
   "execution_count": 30,
   "id": "b78f4f9a",
   "metadata": {},
   "outputs": [
    {
     "name": "stdout",
     "output_type": "stream",
     "text": [
      "Model: \"sequential\"\n",
      "_________________________________________________________________\n",
      " Layer (type)                Output Shape              Param #   \n",
      "=================================================================\n",
      " flatten (Flatten)           (None, 8)                 0         \n",
      "                                                                 \n",
      " dense (Dense)               (None, 64)                576       \n",
      "                                                                 \n",
      " dense_1 (Dense)             (None, 3)                 195       \n",
      "                                                                 \n",
      "=================================================================\n",
      "Total params: 771\n",
      "Trainable params: 771\n",
      "Non-trainable params: 0\n",
      "_________________________________________________________________\n"
     ]
    }
   ],
   "source": [
    "model.summary()"
   ]
  },
  {
   "cell_type": "code",
   "execution_count": 31,
   "id": "94663456",
   "metadata": {},
   "outputs": [
    {
     "name": "stdout",
     "output_type": "stream",
     "text": [
      "3/3 [==============================] - 0s 2ms/step - loss: 0.8890 - acc: 0.6883\n",
      "Akurasi Testing ANN: 0.6883116960525513\n"
     ]
    }
   ],
   "source": [
    "from sklearn.metrics import confusion_matrix\n",
    "\n",
    "loss, accuracy = model.evaluate(X_test, Y_test)\n",
    "print('Akurasi Testing ANN:', accuracy)"
   ]
  },
  {
   "cell_type": "code",
   "execution_count": 32,
   "id": "9ff07085",
   "metadata": {},
   "outputs": [],
   "source": [
    "from keras import callbacks\n",
    "earlystopping = callbacks.EarlyStopping(monitor =\"val_loss\", \n",
    "                                        mode =\"min\", patience = 5, \n",
    "                                        restore_best_weights = True)"
   ]
  },
  {
   "cell_type": "code",
   "execution_count": 33,
   "id": "0c63e7c9",
   "metadata": {},
   "outputs": [
    {
     "name": "stdout",
     "output_type": "stream",
     "text": [
      "3/3 [==============================] - 0s 2ms/step - loss: 0.8890 - acc: 0.6883\n",
      "Akurasi Testing ANN: 0.6883116960525513\n"
     ]
    }
   ],
   "source": [
    "from sklearn.metrics import confusion_matrix\n",
    "\n",
    "loss, accuracy = model.evaluate(X_test, Y_test)\n",
    "print('Akurasi Testing ANN:', accuracy)"
   ]
  },
  {
   "cell_type": "code",
   "execution_count": null,
   "id": "de1af5c7",
   "metadata": {},
   "outputs": [],
   "source": []
  },
  {
   "cell_type": "code",
   "execution_count": 24,
   "id": "8e592419",
   "metadata": {},
   "outputs": [
    {
     "name": "stdout",
     "output_type": "stream",
     "text": [
      "Model: \"sequential\"\n",
      "_________________________________________________________________\n",
      " Layer (type)                Output Shape              Param #   \n",
      "=================================================================\n",
      " flatten (Flatten)           (None, 8)                 0         \n",
      "                                                                 \n",
      " dense (Dense)               (None, 64)                576       \n",
      "                                                                 \n",
      " dense_1 (Dense)             (None, 3)                 195       \n",
      "                                                                 \n",
      "=================================================================\n",
      "Total params: 771\n",
      "Trainable params: 771\n",
      "Non-trainable params: 0\n",
      "_________________________________________________________________\n"
     ]
    }
   ],
   "source": []
  },
  {
   "cell_type": "code",
   "execution_count": 28,
   "id": "a993dfb7",
   "metadata": {},
   "outputs": [
    {
     "name": "stdout",
     "output_type": "stream",
     "text": [
      "3/3 [==============================] - 0s 2ms/step - loss: 1.1099 - acc: 0.5974\n",
      "Akurasi Testing ANN: 0.5974025726318359\n"
     ]
    }
   ],
   "source": []
  },
  {
   "cell_type": "code",
   "execution_count": null,
   "id": "877cba5f",
   "metadata": {},
   "outputs": [],
   "source": []
  },
  {
   "cell_type": "code",
   "execution_count": null,
   "id": "79a33e75",
   "metadata": {},
   "outputs": [],
   "source": []
  },
  {
   "cell_type": "code",
   "execution_count": null,
   "id": "f67a8cc0",
   "metadata": {},
   "outputs": [],
   "source": []
  }
 ],
 "metadata": {
  "kernelspec": {
   "display_name": "Python 3 (ipykernel)",
   "language": "python",
   "name": "python3"
  },
  "language_info": {
   "codemirror_mode": {
    "name": "ipython",
    "version": 3
   },
   "file_extension": ".py",
   "mimetype": "text/x-python",
   "name": "python",
   "nbconvert_exporter": "python",
   "pygments_lexer": "ipython3",
   "version": "3.10.2"
  }
 },
 "nbformat": 4,
 "nbformat_minor": 5
}
